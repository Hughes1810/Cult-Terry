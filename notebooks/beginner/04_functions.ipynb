{
 "cells": [
  {
   "cell_type": "code",
   "execution_count": null,
   "metadata": {},
   "outputs": [],
   "source": [
    "from IPython.display import Image  # handy, builtin capability to make stuff look good\n",
    "\n",
    "# our standard imports\n",
    "import numpy as np\n",
    "import pandas as pd"
   ]
  },
  {
   "cell_type": "markdown",
   "metadata": {},
   "source": [
    "# Functions\n",
    "\n",
    "---\n",
    "\n",
    "**class-derived example of a monte carlo simulation**\n",
    "\n",
    "**Sections:**\n",
    "\n",
    "0. Intro\n",
    "1. Random Number Generation\n",
    "2. Building a Turn\n",
    "3. Looping a Turn\n",
    "4. Creating and Visualizing a Results Matrix\n",
    "5. Increased Iterations\n",
    "\n",
    "---\n",
    "\n",
    "### Intro:\n",
    "\n",
    "This example is taken from an assingment withing the intro to BI class at UGA taught by Dr. Hugh Watson.\n",
    "\n",
    "Reference: *Watson, H.J., and J.H. Blackstone, Computer Simulation, 2nd edition, (New York: Wiley, 1989)*\n",
    "\n",
    "The premise of this problem is inventory simulation with regards to two \"random\" variables (demand, delivery time) and four cost variables (carrying, ordering, and stockout). \n",
    "\n",
    "It's presumed that we either know the probabilities associated with the random variables, or have enough information to make a good guess. To Watson's point, \"Despite the feelings of discomfort most people have with subjective probabilities, decisions must be made, and carefully reasoned subjective estimates are better than no estimates at all.\" Based on these probabilities, random number tables are references to determine levels for our random variables. \n",
    "\n",
    "The probability distributions:"
   ]
  },
  {
   "cell_type": "code",
   "execution_count": null,
   "metadata": {},
   "outputs": [],
   "source": [
    "Image(filename='random_numbers.png') "
   ]
  },
  {
   "cell_type": "markdown",
   "metadata": {},
   "source": [
    "With these distributions, and a series of rules, we can build a \"turn\" (each line of an order/delivery timeline) that is iterable.\n",
    "\n",
    "In each turn there's a chance that we will have to order, recieve an order, or just wait. Regardless of actions taken, there are always costs to calculate. Below is the example of this exercise done by hand for 20 iterations. From this, we can derive all of our rules."
   ]
  },
  {
   "cell_type": "code",
   "execution_count": null,
   "metadata": {},
   "outputs": [],
   "source": [
    "Image(filename='monte_carlo.png')"
   ]
  },
  {
   "cell_type": "markdown",
   "metadata": {},
   "source": [
    "---\n",
    "\n",
    "### Random Number Generation:\n",
    "\n",
    "The crux of this exercise is actually the easiest part. It's also the easiest place to make a mistake, but it's the easiest mistake to fix. Easiest.\n",
    "\n",
    "The package numpy offers *probably* all of the rng capabilities you'll ever need: random normal, binomial, poisson, uniform, beta, gamma, dirchlet, etc..."
   ]
  },
  {
   "cell_type": "code",
   "execution_count": null,
   "metadata": {},
   "outputs": [],
   "source": [
    "# random is the default, uniform between 0 and 1\n",
    "\n",
    "np.random.random()"
   ]
  },
  {
   "cell_type": "code",
   "execution_count": null,
   "metadata": {},
   "outputs": [],
   "source": [
    "# running it again produces a new random number\n",
    "\n",
    "np.random.random()"
   ]
  },
  {
   "cell_type": "code",
   "execution_count": null,
   "metadata": {},
   "outputs": [],
   "source": [
    "# we need a replicable experiment though, so we need to set a \"seed\"\n",
    "\n",
    "np.random.seed(42)\n",
    "np.random.random(3)  # number of numbers"
   ]
  },
  {
   "cell_type": "code",
   "execution_count": null,
   "metadata": {},
   "outputs": [],
   "source": [
    "# again\n",
    "\n",
    "np.random.seed(42)\n",
    "np.random.random(3)"
   ]
  },
  {
   "cell_type": "code",
   "execution_count": null,
   "metadata": {},
   "outputs": [],
   "source": [
    "# perfect, now we can generate all of our numbers\n",
    "# we'll start at 20 numbers, like the referenced text\n",
    "\n",
    "np.random.seed(42)\n",
    "\n",
    "random_numbers = np.random.random(20)"
   ]
  },
  {
   "cell_type": "code",
   "execution_count": null,
   "metadata": {},
   "outputs": [],
   "source": [
    "# using the tables from earlier, we can make functions to generate\n",
    "# our demand and delivery times based on random_numbers\n",
    "\n",
    "# functions go like: \n",
    "# def function_name(variables):\n",
    "#    '''explanation of your function'''\n",
    "#    stuff stuff stuff\n",
    "#    return result\n",
    "\n",
    "def get_demand(order_count):\n",
    "    '''\n",
    "    get_demand(order_count)\n",
    "    ---\n",
    "    order_count = current number of orders made\n",
    "    returns: amount of demand based on random_numbers[index][2:4]\n",
    "    if random_number[index] = 0.37454012, then i = 37\n",
    "    '''\n",
    "    \n",
    "    i = random_numbers[order_count]\n",
    "    i = str(i)[2:4]  # convert the random number to a string and index\n",
    "    i = int(i)  # and convert back\n",
    "    \n",
    "    if i < 10:  # 0 - 09\n",
    "        demand = 0\n",
    "    elif i < 30:  # 10 - 29\n",
    "        demand = 1\n",
    "    elif i < 60:  # 30 = 59\n",
    "        demand = 2\n",
    "    elif i < 84:  # 60 - 83\n",
    "        demand = 3\n",
    "    else:  # 84 - 99\n",
    "        demand = 4\n",
    "        \n",
    "    return demand"
   ]
  },
  {
   "cell_type": "code",
   "execution_count": null,
   "metadata": {},
   "outputs": [],
   "source": [
    "# try it out, any indices from 0 - 19 since we made 20 observations\n",
    "\n",
    "get_demand()"
   ]
  },
  {
   "cell_type": "code",
   "execution_count": null,
   "metadata": {},
   "outputs": [],
   "source": [
    "# delivery is shorter, but exactly the same idea\n",
    "# reorder_count moves much slower than order_count,\n",
    "# so it will not be a limiting factor\n",
    "\n",
    "def get_delivery_time(reorder_count):\n",
    "    '''\n",
    "    get_delivery_time(reorder_count)\n",
    "    ---\n",
    "    reorder_count = current number of reorders made\n",
    "    returns: time until delivery based on random_numbers[index][4:6]\n",
    "    if random_number[index] = 0.37454012, then i = 45\n",
    "    '''\n",
    "    \n",
    "    i = random_numbers[reorder_count]\n",
    "    i = str(i)[4:6]  # convert the random number to a string and index\n",
    "    i = int(i)  # and convert back\n",
    "    \n",
    "    if i < 40:  # 0 - 39\n",
    "        time = 1\n",
    "    elif i < 80:  # 40 - 79\n",
    "        time = 2\n",
    "    else:  # 80 - 99\n",
    "        time = 3\n",
    "        \n",
    "    return time"
   ]
  },
  {
   "cell_type": "code",
   "execution_count": null,
   "metadata": {},
   "outputs": [],
   "source": [
    "# try it out, any indices from 0 - 19 since we made 20 observations\n",
    "\n",
    "get_delivery_time()"
   ]
  },
  {
   "cell_type": "markdown",
   "metadata": {},
   "source": [
    "If you're wondering, \"what's the point of that, did we really have to?\"\n",
    "\n",
    "Well, no, we didn't have to, but let's say we needed to use get_demand 10 times in a task later on. That's no fun, and it's also the point of functions: they abstract tedious work that has to be done - usually done multiple times - into the background so we can make a good-looking, streamlined process."
   ]
  },
  {
   "cell_type": "markdown",
   "metadata": {},
   "source": [
    "---\n",
    "\n",
    "### Building a Turn\n",
    "\n",
    "Looking at the simulation chart, let's go through all of the steps chronologically and then get a full turn.\n",
    "\n",
    "**steps:**\n",
    "1. if order outstanding and time == 0 then order recieved (add to inventory)\n",
    "2. get demand\n",
    "3. subtract demand from inventory\n",
    "    1. if inventory > demand, no worries\n",
    "    2. else sell as much as possible before determining stockout quantity (20 each)\n",
    "4. check if it's time to reorder\n",
    "    1. get delivery time\n",
    "    2. add reorder cost (30 per order)\n",
    "5. add cost of holding (2 per item)\n",
    "6. decrease order time"
   ]
  },
  {
   "cell_type": "code",
   "execution_count": null,
   "metadata": {},
   "outputs": [],
   "source": [
    "# there are a few things we need to keep track of along the way:\n",
    "# counts: order and reorder\n",
    "# set variables: order quantity and reorder point\n",
    "# time to next order, and if we have an order outstanding\n",
    "# inventory balance, and cost incurred in the turn\n",
    "\n",
    "def turn(order_count, reorder_count,\n",
    "         order_quantity, reorder_point,\n",
    "         order_outstanding, order_time,\n",
    "         balance, cost):\n",
    "    '''\n",
    "    using all variables, execute one run of the simulation\n",
    "    work(variables)\n",
    "    ---\n",
    "    see above for variable descriptions\n",
    "    '''\n",
    "\n",
    "    # ordering rule\n",
    "    if order_outstanding == 1 and order_time == 0:\n",
    "        balance += order_quantity\n",
    "        order_outstanding = 0  # allows for a new order\n",
    "       \n",
    "    # selling stuff\n",
    "    demand = get_demand(order_count)\n",
    "    \n",
    "    # stock in\n",
    "    if balance >= demand:\n",
    "        balance -= demand\n",
    "    # stock out\n",
    "    else:\n",
    "        # give partial credit\n",
    "        if balance > 0:\n",
    "            demand -= balance\n",
    "            balance = 0  # all gone\n",
    "        # incur stockout cost on remaining demand\n",
    "        cost += 20 * demand\n",
    "    \n",
    "    # reordering rule\n",
    "    if balance <= reorder_point and order_outstanding == 0:  # order_outstanding prevents multiple orders\n",
    "        order_time = get_delivery_time(reorder_count)\n",
    "        reorder_count += 1\n",
    "        order_outstanding = 1\n",
    "        cost += 30\n",
    "    \n",
    "    # cost of holding\n",
    "    cost += 2 * balance\n",
    "    \n",
    "    # time is constant\n",
    "    if order_time > 0:\n",
    "        order_time -= 1\n",
    "        \n",
    "    # after the turn, check all of our variables\n",
    "    return (reorder_count,\n",
    "            order_outstanding, order_time,\n",
    "            balance, cost)"
   ]
  },
  {
   "cell_type": "markdown",
   "metadata": {},
   "source": [
    "---\n",
    "\n",
    "### Looping a Turn\n",
    "\n",
    "Now that we have a single turn down, we need to figure out a way to take multiple turns."
   ]
  },
  {
   "cell_type": "code",
   "execution_count": null,
   "metadata": {},
   "outputs": [],
   "source": [
    "# most of the variables per turn are internal.\n",
    "# all we have to worry about specifying before we start are:\n",
    "# order_quantity: the amount to order\n",
    "# reorder_point: the amount to order at/below\n",
    "# balance: the amount we start with (== order_quantity in the text)\n",
    "# turns: the number of turns we want to take\n",
    "\n",
    "\n",
    "def monte_crisco(order_quantity, reorder_point, balance, turns):\n",
    "    '''\n",
    "    monte_crisco(order_quantity, reorder_point, balance, turns)\n",
    "    ----\n",
    "    order_quantity: if reordering, order \"order_quantity\"\n",
    "    reorder_point: reorder if balance <= \"reorder_point\"\n",
    "    balance: starting balance\n",
    "    turns: number of turn() executions\n",
    "    '''\n",
    "    \n",
    "    # starting point, no cost or counts\n",
    "    total_cost = 0  # we'll add each turn's cost here\n",
    "    # order_count increments every turn, so we can use the turn number\n",
    "    reorder_count = 0\n",
    "    order_outstanding = 0\n",
    "    order_time = 0\n",
    "    \n",
    "    # we can use a while loop, and keep track of runs vs some integer i (turn number)\n",
    "    i = 0\n",
    "    while i < turns:\n",
    "        # turn execution\n",
    "        turn_data = turn(reorder_count = reorder_count,\n",
    "                         order_quantity = order_quantity, \n",
    "                         reorder_point = reorder_point,\n",
    "                         order_outstanding = order_outstanding, \n",
    "                         order_time = order_time,\n",
    "                         balance = balance, \n",
    "                         cost = 0,  # cost is on a per turn basis\n",
    "                         order_count = i)  # again, order_count is simply the turn number\n",
    "#         print(turn_data)\n",
    "        # increment cost\n",
    "        total_cost += turn_data[-1]\n",
    "        # update all other variables\n",
    "        reorder_count = turn_data[0]\n",
    "        order_outstanding = turn_data[1]\n",
    "        order_time = turn_data[2]\n",
    "        balance = turn_data[3]\n",
    "        # next turn!\n",
    "        i += 1\n",
    "        \n",
    "    # the text asks for average cost, we can remove \"/runs\" and get total cost\n",
    "    return total_cost/turns"
   ]
  },
  {
   "cell_type": "code",
   "execution_count": null,
   "metadata": {},
   "outputs": [],
   "source": [
    "# and now take a turn, any quantity and order point you want\n",
    "\n",
    "order_quantity = \n",
    "reorder_point = \n",
    "num_turns = 20\n",
    "\n",
    "monte_crisco(order_quantity, reorder_point, order_quantity, num_turns)"
   ]
  },
  {
   "cell_type": "markdown",
   "metadata": {},
   "source": [
    "---\n",
    "\n",
    "### Creating and Visualizing a Results Matrix\n",
    "\n",
    "Alright, now we need to compare different values for order_quantity and reorder_point across the same number of turns and same random numbers.\n",
    "\n",
    "Let's draw from notebook two to create a dataframe for holding the data from our runs, and then hop into matplotlib to graph our results."
   ]
  },
  {
   "cell_type": "code",
   "execution_count": null,
   "metadata": {},
   "outputs": [],
   "source": [
    "%%time\n",
    "\n",
    "# %%time is a magical function to tell you the time it takes to run a cell\n",
    "\n",
    "# store info for all runs in a matrix\n",
    "matrix = []\n",
    "\n",
    "for q in range(4, 11):  # order_quantities 4 - 10\n",
    "    row = []  # I'm assuming that quantities are row and reorders a column, it's trivial to switch\n",
    "    for r in range(1, 8):  # reorder_point 1 - 7\n",
    "        row.append(monte_crisco(q, r, q, 20)) \n",
    "    matrix.append(row)  # after each row is finished, start the next\n",
    "    \n",
    "# matrix -> dataframe\n",
    "pd.DataFrame(data=matrix, index=range(4, 11), columns=range(1, 8))"
   ]
  },
  {
   "cell_type": "code",
   "execution_count": null,
   "metadata": {},
   "outputs": [],
   "source": [
    "# you COULD stop here and throw those numbers at someone\n",
    "# or you could make it look good\n",
    "\n",
    "# data for plotting\n",
    "plt_data = []\n",
    "# just running through the same data\n",
    "for q in range(4, 11):\n",
    "    row = []\n",
    "    for r in range(1, 8):\n",
    "        z = monte_crisco(q, r, q, 20)\n",
    "        plt_data.append((q, r, z))  # save q, r as x, y and avg cost as height (z)\n",
    "    matrix.append(row)"
   ]
  },
  {
   "cell_type": "code",
   "execution_count": null,
   "metadata": {},
   "outputs": [],
   "source": [
    "# import matplotlib\n",
    "import matplotlib.pyplot as plt  # standard import\n",
    "from mpl_toolkits.mplot3d import Axes3D  # special 3D graphing\n",
    "\n",
    "# let's get fancy and find the minimum point\n",
    "minimum_idx = min([(val[2], idx) for idx, val in enumerate(plt_data)])[1]\n",
    "print(plt_data[minimum_idx])  # show\n",
    "# conditinoal colors, r = red and k = black\n",
    "colors = ['r' if idx == minimum_idx else 'k' for idx in range(len(plt_data))]"
   ]
  },
  {
   "cell_type": "code",
   "execution_count": null,
   "metadata": {},
   "outputs": [],
   "source": [
    "# time to plot\n",
    "\n",
    "fig = plt.figure(figsize=(10, 10))  # set the output size\n",
    "ax = Axes3D(fig)  # specify 3D plotting\n",
    "ax.scatter([i[0] for i in plt_data], # x\n",
    "           [i[1] for i in plt_data], # y\n",
    "           [i[2] for i in plt_data], # z\n",
    "           c=colors) # colors\n",
    "plt.show()"
   ]
  },
  {
   "cell_type": "markdown",
   "metadata": {},
   "source": [
    "---\n",
    "\n",
    "### Increased Iterations\n",
    "\n",
    "That plot is kinda wonky. Let's smooth it out by sending the number of iterations towards (emphasis on the -wards, but if you want to sit around for-literally-ever go ahead and don't mind me) infinity.\n",
    "\n",
    "All we have to do is make more random numbers and change the last variable in monte_crisco() to be higher... that's it."
   ]
  },
  {
   "cell_type": "code",
   "execution_count": null,
   "metadata": {},
   "outputs": [],
   "source": [
    "# set replicable list of 100k random numbers\n",
    "np.random.seed(42)\n",
    "random_numbers = np.random.random(100000)"
   ]
  },
  {
   "cell_type": "code",
   "execution_count": null,
   "metadata": {},
   "outputs": [],
   "source": [
    "%%time\n",
    "\n",
    "# patience, this takes a few seconds\n",
    "# just copy pasted from above\n",
    "\n",
    "# data for plotting\n",
    "plt_data = []\n",
    "# matrix of convergences\n",
    "matrix = []\n",
    "for q in range(4, 11):\n",
    "    row = []\n",
    "    for r in range(1, 8):\n",
    "        z = monte_crisco(q, r, q, len(random_numbers))\n",
    "        row.append(z)\n",
    "        plt_data.append((q, r, z))\n",
    "    matrix.append(row)\n",
    "    \n",
    "# we don't even really need this, but if you wanted a \"deliverable\" you could \n",
    "# do convergences.to_csv('path.csv') and send that off\n",
    "# convergences = pd.DataFrame(data=matrix, index=range(4, 11), columns=range(1, 8))"
   ]
  },
  {
   "cell_type": "code",
   "execution_count": null,
   "metadata": {},
   "outputs": [],
   "source": [
    "# copy paste copy paste copy paste\n",
    "\n",
    "minimum_idx = min([(val[2], idx) for idx, val in enumerate(plt_data)])[1]\n",
    "colors = ['r' if idx == minimum_idx else 'k' for idx in range(len(plt_data))]\n",
    "\n",
    "fig = plt.figure(figsize=(10, 10))  # set the output size\n",
    "ax = Axes3D(fig)  # specify 3D plotting\n",
    "ax.scatter([i[0] for i in plt_data], # x\n",
    "           [i[1] for i in plt_data], # y\n",
    "           [i[2] for i in plt_data], # z\n",
    "           c=colors) # colors\n",
    "plt.show()  # freaking gorgeous now"
   ]
  },
  {
   "cell_type": "code",
   "execution_count": null,
   "metadata": {},
   "outputs": [],
   "source": []
  }
 ],
 "metadata": {
  "kernelspec": {
   "display_name": "Python 3",
   "language": "python",
   "name": "python3"
  },
  "language_info": {
   "codemirror_mode": {
    "name": "ipython",
    "version": 3
   },
   "file_extension": ".py",
   "mimetype": "text/x-python",
   "name": "python",
   "nbconvert_exporter": "python",
   "pygments_lexer": "ipython3",
   "version": "3.7.3"
  }
 },
 "nbformat": 4,
 "nbformat_minor": 4
}
