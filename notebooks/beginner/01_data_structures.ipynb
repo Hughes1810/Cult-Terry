{
 "cells": [
  {
   "cell_type": "markdown",
   "metadata": {},
   "source": [
    "# Data Structures\n",
    "\n",
    "---\n",
    "\n",
    "**overview of ways to structure data, and some elementary programming things**\n",
    "\n",
    "*this is all super foundational - read books and take tutorials until it's second nature*\n",
    "\n",
    "1. Variables\n",
    "    1. integers and floats\n",
    "    2. strings\n",
    "2. Lists\n",
    "    1. basics\n",
    "3. Sets\n",
    "    1. basics\n",
    "4. Dictionaries\n",
    "    1. basics\n",
    "5. Loops\n",
    "    1. for\n",
    "    2. while\n",
    "    3. comprehensions\n",
    "    \n",
    "***to run a cell, hit \"shift\" + \"enter\"***"
   ]
  },
  {
   "cell_type": "markdown",
   "metadata": {},
   "source": [
    "---\n",
    "\n",
    "### 1. Variables\n",
    "\n",
    "the building blocks of data, this is just a brief overview\n",
    "\n",
    "#### integers:"
   ]
  },
  {
   "cell_type": "code",
   "execution_count": null,
   "metadata": {},
   "outputs": [],
   "source": [
    "# shift + enter\n",
    "\n",
    "x = 1"
   ]
  },
  {
   "cell_type": "code",
   "execution_count": null,
   "metadata": {},
   "outputs": [],
   "source": [
    "# showing a variable with \"print\"\n",
    "\n",
    "print(x)"
   ]
  },
  {
   "cell_type": "code",
   "execution_count": null,
   "metadata": {},
   "outputs": [],
   "source": [
    "# in a jupyter notebook, a hanging variable at the end of a cell will print\n",
    "\n",
    "x"
   ]
  },
  {
   "cell_type": "code",
   "execution_count": null,
   "metadata": {},
   "outputs": [],
   "source": [
    "# what type of variable is x?\n",
    "\n",
    "type(x)"
   ]
  },
  {
   "cell_type": "code",
   "execution_count": null,
   "metadata": {},
   "outputs": [],
   "source": [
    "# math is math, but some math looks different when you type it\n",
    "\n",
    "x = 3\n",
    "\n",
    "print(x + 1)  # addition\n",
    "print(x - 1)  # subtraction\n",
    "print(x * 2)  # multiplication\n",
    "print(x ** 2)  # powers\n",
    "print(x / 2)  # regular division\n",
    "print(x // 2)  # integer division -> same as int(x/2)"
   ]
  },
  {
   "cell_type": "markdown",
   "metadata": {},
   "source": [
    "---\n",
    "#### floats:"
   ]
  },
  {
   "cell_type": "code",
   "execution_count": null,
   "metadata": {},
   "outputs": [],
   "source": [
    "y = 7.1\n",
    "\n",
    "type(y)"
   ]
  },
  {
   "cell_type": "code",
   "execution_count": null,
   "metadata": {},
   "outputs": [],
   "source": [
    "# use \"==\" to check if two variables are equal\n",
    "\n",
    "print(y == 2)\n",
    "print(y == 7.1)"
   ]
  },
  {
   "cell_type": "code",
   "execution_count": null,
   "metadata": {},
   "outputs": [],
   "source": [
    "# distinctions are important\n",
    "\n",
    "x = 1\n",
    "y = 1.0\n",
    "\n",
    "print(x == y)\n",
    "print(type(x) == type(y))"
   ]
  },
  {
   "cell_type": "code",
   "execution_count": null,
   "metadata": {},
   "outputs": [],
   "source": [
    "# when incrementing a variable you can swap out \"x = x + 1\" for \"x += 1\"\n",
    "# same goes for \"x -= 1\"\n",
    "\n",
    "x = 0\n",
    "print(x += 1)"
   ]
  },
  {
   "cell_type": "markdown",
   "metadata": {},
   "source": [
    "---\n",
    "\n",
    "#### strings:"
   ]
  },
  {
   "cell_type": "code",
   "execution_count": null,
   "metadata": {},
   "outputs": [],
   "source": [
    "# single quotes are the same as double quotes\n",
    "# only difference being that an apostrophe will break single quotes\n",
    "\n",
    "x = 'hello'\n",
    "type(x)"
   ]
  },
  {
   "cell_type": "code",
   "execution_count": null,
   "metadata": {},
   "outputs": [],
   "source": [
    "# you can do some maths with strings\n",
    "\n",
    "x * 5"
   ]
  },
  {
   "cell_type": "code",
   "execution_count": null,
   "metadata": {},
   "outputs": [],
   "source": [
    "# indexing starts at 0\n",
    "\n",
    "x[0]"
   ]
  },
  {
   "cell_type": "code",
   "execution_count": null,
   "metadata": {},
   "outputs": [],
   "source": [
    "# taking multiple indices is called slicing\n",
    "# [start:stop:step] (really stop is stop before)\n",
    "\n",
    "x[:2]"
   ]
  },
  {
   "cell_type": "code",
   "execution_count": null,
   "metadata": {},
   "outputs": [],
   "source": [
    "# taking a step\n",
    "\n",
    "x[1::3]"
   ]
  },
  {
   "cell_type": "code",
   "execution_count": null,
   "metadata": {},
   "outputs": [],
   "source": [
    "# replacing\n",
    "\n",
    "'string'.replace('ri', 'u')"
   ]
  },
  {
   "cell_type": "code",
   "execution_count": null,
   "metadata": {},
   "outputs": [],
   "source": [
    "# formatting\n",
    "\n",
    "'{} wallaby way'.format(42)"
   ]
  },
  {
   "cell_type": "code",
   "execution_count": null,
   "metadata": {},
   "outputs": [],
   "source": [
    "# time for the cliche\n",
    "\n",
    "y = 'world'\n",
    "\n",
    "z = x + ' ' + y\n",
    "z"
   ]
  },
  {
   "cell_type": "code",
   "execution_count": null,
   "metadata": {},
   "outputs": [],
   "source": [
    "# you can split a string on any character\n",
    "\n",
    "z.split('o')"
   ]
  },
  {
   "cell_type": "code",
   "execution_count": null,
   "metadata": {},
   "outputs": [],
   "source": [
    "# which brings us to\n",
    "\n",
    "type(z.split('o'))"
   ]
  },
  {
   "cell_type": "code",
   "execution_count": null,
   "metadata": {},
   "outputs": [],
   "source": [
    "# EXERCISE:\n",
    "\n",
    "# update the print statements so that they slice the vowels from each word\n",
    "a = 'hard'\n",
    "b = 'apple'\n",
    "c = 'pie'\n",
    "d = 'revisit'\n",
    "\n",
    "print(a[])\n",
    "print(b[])\n",
    "print(c[])\n",
    "print(d[])"
   ]
  },
  {
   "cell_type": "markdown",
   "metadata": {},
   "source": [
    "---\n",
    "\n",
    "### 2. Lists\n",
    "\n",
    "lists are pretty fundamental, and so is my understanding of them.\n",
    "\n",
    "a list is an ordered list of objects. those objects can be numbers, strings, lists, dictionaries, anything you want and mixed up however you like. ordered just means that everything has an index, the first item is 0, second is 1, last is -1, and so on.\n",
    "\n",
    "you'll use lists pretty much all the time, as they're handy for building out and manipulating dataframes."
   ]
  },
  {
   "cell_type": "code",
   "execution_count": null,
   "metadata": {},
   "outputs": [],
   "source": [
    "# we've already seen this, splitting a string into a list\n",
    "\n",
    "z = z.split('o')\n",
    "print(z)"
   ]
  },
  {
   "cell_type": "code",
   "execution_count": null,
   "metadata": {},
   "outputs": [],
   "source": [
    "# join is the opposite of split, it's also formatted oppositely - FUN\n",
    "\n",
    "'o'.join(z)"
   ]
  },
  {
   "cell_type": "code",
   "execution_count": null,
   "metadata": {},
   "outputs": [],
   "source": [
    "# indexing works just the same in lists as strings\n",
    "\n",
    "z[0]"
   ]
  },
  {
   "cell_type": "code",
   "execution_count": null,
   "metadata": {},
   "outputs": [],
   "source": [
    "# reverse indexing: helpful for lists of indeterminate length\n",
    "\n",
    "z[-1]"
   ]
  },
  {
   "cell_type": "code",
   "execution_count": null,
   "metadata": {},
   "outputs": [],
   "source": [
    "# want to flip a script? no problem. this is just [start:stop:reverse_step]\n",
    "\n",
    "z[::-1]"
   ]
  },
  {
   "cell_type": "code",
   "execution_count": null,
   "metadata": {},
   "outputs": [],
   "source": [
    "# adding\n",
    "\n",
    "x = [1, 2, 3]\n",
    "y = [4, 5, 6]\n",
    "\n",
    "x + y"
   ]
  },
  {
   "cell_type": "code",
   "execution_count": null,
   "metadata": {},
   "outputs": [],
   "source": [
    "# appending - note that append() is not verbose, i.e. it doesn't automatically print\n",
    "\n",
    "x.append(0)\n",
    "x"
   ]
  },
  {
   "cell_type": "code",
   "execution_count": null,
   "metadata": {},
   "outputs": [],
   "source": [
    "# appending vs extending\n",
    "\n",
    "x = [1, 2, 3]\n",
    "y = [4, 5, 6]\n",
    "\n",
    "x.append(y)\n",
    "print(x)  # list within list\n",
    "\n",
    "x = [1, 2, 3] # reset\n",
    "x.extend(y)\n",
    "print(x)  # regular old list"
   ]
  },
  {
   "cell_type": "code",
   "execution_count": null,
   "metadata": {},
   "outputs": [],
   "source": [
    "# multiplying - literal replication. need a vector of n ones? [1] * n\n",
    "\n",
    "x = [1, 2, 3] * 2\n",
    "x"
   ]
  },
  {
   "cell_type": "code",
   "execution_count": null,
   "metadata": {},
   "outputs": [],
   "source": [
    "# deleting\n",
    "\n",
    "del x[3:]  # you can delete single indices, slices, you name it\n",
    "x"
   ]
  },
  {
   "cell_type": "code",
   "execution_count": null,
   "metadata": {},
   "outputs": [],
   "source": [
    "# sorting\n",
    "\n",
    "x = [1, 3, 2]\n",
    "sorted(x, reverse=True)  # sorted returns a new list, but it doesn't store it"
   ]
  },
  {
   "cell_type": "code",
   "execution_count": null,
   "metadata": {},
   "outputs": [],
   "source": [
    "# sorting cont. 1\n",
    "\n",
    "x.sort()  # list.sort() is an inplace function, it takes the action on x rather than creating a new list\n",
    "x"
   ]
  },
  {
   "cell_type": "code",
   "execution_count": null,
   "metadata": {},
   "outputs": [],
   "source": [
    "# sorting cont. 2\n",
    "\n",
    "lol = [[1, 1], [3, 0], [2, 4], [7, 2]]\n",
    "sorted(lol)  # default sorted only considers the first object in our list"
   ]
  },
  {
   "cell_type": "code",
   "execution_count": null,
   "metadata": {},
   "outputs": [],
   "source": [
    "# sorting cont. 3\n",
    "\n",
    "sorted(lol, key=lambda x: x[1])  # here's a fairly common lambda function to sort by the second object"
   ]
  },
  {
   "cell_type": "code",
   "execution_count": null,
   "metadata": {},
   "outputs": [],
   "source": [
    "# EXERCISE:\n",
    "\n",
    "# use builtin functions change the example list to match: [[1, 6, 1], [9, 3, 6], [3, 0, 9]]\n",
    "\n",
    "a = [[9, 3, 6], 4, 9, 0, [3, 0, 9], [1, 6, 1]]\n",
    "\n"
   ]
  },
  {
   "cell_type": "markdown",
   "metadata": {},
   "source": [
    "---\n",
    "\n",
    "### 3. Sets\n",
    "\n",
    "sets are unordered lists with no duplicate objects. set theory applies - unions and intersections"
   ]
  },
  {
   "cell_type": "code",
   "execution_count": null,
   "metadata": {},
   "outputs": [],
   "source": [
    "# we can turn lists of numbers or strings into a set\n",
    "\n",
    "x = [0, 1, 0, 2, 2, 3, 4, 1, 0, 0]\n",
    "print(set(x))\n",
    "\n",
    "y = ['mary', 'had', 'a', 'little', 'lamb', 'a', 'little', 'lamb']\n",
    "print(set(y))"
   ]
  },
  {
   "cell_type": "code",
   "execution_count": null,
   "metadata": {},
   "outputs": [],
   "source": [
    "# union - unique elements in either list\n",
    "\n",
    "a = {0, 1, 2, 3, 4}\n",
    "b = {1, 3, 5, 7, 9}\n",
    "\n",
    "a.union(b)"
   ]
  },
  {
   "cell_type": "code",
   "execution_count": null,
   "metadata": {},
   "outputs": [],
   "source": [
    "# intersection - unique elements that are in both lists\n",
    "\n",
    "a = {0, 1, 2, 3, 4}\n",
    "b = {1, 3, 5, 7, 9}\n",
    "\n",
    "a.intersection(b)"
   ]
  },
  {
   "cell_type": "code",
   "execution_count": null,
   "metadata": {},
   "outputs": [],
   "source": [
    "# difference - elements in a, not in b\n",
    "\n",
    "a = {0, 1, 2, 3, 4}\n",
    "b = {1, 3, 5, 7, 9}\n",
    "\n",
    "a.difference(b)"
   ]
  },
  {
   "cell_type": "code",
   "execution_count": null,
   "metadata": {},
   "outputs": [],
   "source": [
    "# EXERCISE:\n",
    "\n",
    "# which baby names are in the top 5 (2018) for Alabama, Alaska, Arizona, and Arkansas?\n",
    "\n",
    "al = ['Ava', 'Olivia', 'Harper', 'Emma', 'Amelia']\n",
    "ak = ['Aurora', 'Amelia', 'Charlotte', 'Olivia', 'Sophia']\n",
    "az = ['Emma', 'Olivia', 'Mia', 'Isabella', 'Sophia']\n",
    "ar = ['Ava', 'Olivia', 'Emma', 'Amelia', 'Harper']\n",
    "\n"
   ]
  },
  {
   "cell_type": "markdown",
   "metadata": {},
   "source": [
    "---\n",
    "\n",
    "### 4. Dictionaries\n",
    "\n",
    "dictionaries are similar to lists, and you'll use them all the time for structuring dataframes"
   ]
  },
  {
   "cell_type": "code",
   "execution_count": null,
   "metadata": {},
   "outputs": [],
   "source": [
    "# the general format is:  dict = {key_1: value_1, key_2: value_2, ... }\n",
    "\n",
    "prices = {'apple': 1.5,\n",
    "          'banana': 0.7,\n",
    "          'persimmon': 4.1,\n",
    "          'kiwi': 2.0}\n",
    "prices"
   ]
  },
  {
   "cell_type": "code",
   "execution_count": null,
   "metadata": {},
   "outputs": [],
   "source": [
    "# indexing is the same as lists, but indices are keys\n",
    "\n",
    "prices['persimmon']"
   ]
  },
  {
   "cell_type": "code",
   "execution_count": null,
   "metadata": {},
   "outputs": [],
   "source": [
    "# adding new elements is totally different though,\n",
    "# we need to create the index when we assign it a value like so\n",
    "\n",
    "prices['pineapple'] = 3.3\n",
    "prices"
   ]
  },
  {
   "cell_type": "code",
   "execution_count": null,
   "metadata": {},
   "outputs": [],
   "source": [
    "# deleting is accomplished the same way though\n",
    "\n",
    "del prices['banana']\n",
    "prices"
   ]
  },
  {
   "cell_type": "code",
   "execution_count": null,
   "metadata": {},
   "outputs": [],
   "source": [
    "# list keys are immutable - you can't change them\n",
    "# but values can be anything... like lists, you'll see lists a lot\n",
    "\n",
    "prices['vegetables'] = ['carrot', 'spinach', 'zucchini']\n",
    "prices"
   ]
  },
  {
   "cell_type": "markdown",
   "metadata": {},
   "source": [
    "---\n",
    "\n",
    "### 5. Loops\n",
    "\n",
    "loops are logical, if you need to iterate over something or do a task repetitively then odds are you'll need a loop. everyone gets stuck in an infinite loop eventually, that's life, just go with the flow.\n",
    "\n",
    "#### for:"
   ]
  },
  {
   "cell_type": "code",
   "execution_count": null,
   "metadata": {},
   "outputs": [],
   "source": [
    "# basic idea\n",
    "\n",
    "x = 'i am a sentence'\n",
    "\n",
    "for letter in x:\n",
    "    print(letter)"
   ]
  },
  {
   "cell_type": "code",
   "execution_count": null,
   "metadata": {},
   "outputs": [],
   "source": [
    "# if something, else something else\n",
    "\n",
    "x = 'i am a sentence'\n",
    "\n",
    "for letter in x:  # only print out vowels\n",
    "    if letter in ['a', 'e', 'i', 'o', 'u']:\n",
    "        print(letter)\n",
    "    else:\n",
    "        pass  # we don't need to call pass, but I get confused easily"
   ]
  },
  {
   "cell_type": "code",
   "execution_count": null,
   "metadata": {},
   "outputs": [],
   "source": [
    "# loops can check an infinite number of conditions\n",
    "# use 'elif' to include extra conditions\n",
    "\n",
    "a = [1, 2, 3, 4, 5, 6, 7, 8, 9, 10, 11, 12]\n",
    "\n",
    "for i in a: # for \"whatever\" ... as long as you remember what is whatever\n",
    "    if i % 4 == 0:  # x % y returns the 'remainder' of x / y, ex. 5 % 2 = 1\n",
    "        print(i)\n",
    "    elif i % 5 == 0:  # remember \"==\" is a logical \"equals to\"\n",
    "        print (i)\n",
    "    else:\n",
    "        pass"
   ]
  },
  {
   "cell_type": "code",
   "execution_count": null,
   "metadata": {},
   "outputs": [],
   "source": [
    "# range is a handy generator, it follows [start:stop:step] but you can just pass an integer\n",
    "\n",
    "for i in range(5):\n",
    "    print(i)"
   ]
  },
  {
   "cell_type": "markdown",
   "metadata": {},
   "source": [
    "----\n",
    "\n",
    "#### while:"
   ]
  },
  {
   "cell_type": "code",
   "execution_count": null,
   "metadata": {},
   "outputs": [],
   "source": [
    "# while loops check a condition and repeat until it's False\n",
    "\n",
    "x = 0\n",
    "\n",
    "while x < 5:\n",
    "    print('loading')\n",
    "    x += 1"
   ]
  },
  {
   "cell_type": "code",
   "execution_count": null,
   "metadata": {},
   "outputs": [],
   "source": [
    "# order doesn't matter, the entire 'loop' is executed before checking\n",
    "\n",
    "x = 0\n",
    "\n",
    "while x < 5:\n",
    "    x += 1  # careful about this, it'll give you issues for some reason eventually\n",
    "    print('loading')"
   ]
  },
  {
   "cell_type": "code",
   "execution_count": null,
   "metadata": {},
   "outputs": [],
   "source": [
    "# 'break'-ing out of a loop with multiple conditions\n",
    "\n",
    "x = []\n",
    "i = 0\n",
    "\n",
    "while len(x) < 100:\n",
    "    x.append('hello')\n",
    "    i += 1\n",
    "    if i > 4:\n",
    "        break\n",
    "        \n",
    "x"
   ]
  },
  {
   "cell_type": "markdown",
   "metadata": {},
   "source": [
    "----\n",
    "\n",
    "#### comprehensions:\n",
    "\n",
    "super important, comprehensions are very pythonic.\n",
    "\n",
    "they're a loop compressed into the list or dictionary format.\n",
    "\n",
    "these can get complex quickly, this is more of a \"these things exist\""
   ]
  },
  {
   "cell_type": "code",
   "execution_count": null,
   "metadata": {},
   "outputs": [],
   "source": [
    "# creating a list with a for loop vs a comprehension\n",
    "\n",
    "my_list = []\n",
    "for i in range(5):\n",
    "    if i % 2 == 0:\n",
    "        my_list.append(i)\n",
    "    else:\n",
    "        my_list.append(i * 2)\n",
    "print(my_list)\n",
    "\n",
    "[i if i % 2 == 0 else i * 2 for i in range(5)]  # 6 lines down to 1"
   ]
  },
  {
   "cell_type": "code",
   "execution_count": null,
   "metadata": {},
   "outputs": [],
   "source": [
    "# dictionary comprehension\n",
    "# create a dictionary from a list of integers with the str(int) as the key,\n",
    "# and values of [int, int^2, int^int]\n",
    "\n",
    "{str(key): [key, key ** 2, key ** key] for key in range(1, 6)}"
   ]
  },
  {
   "cell_type": "code",
   "execution_count": null,
   "metadata": {},
   "outputs": [],
   "source": []
  }
 ],
 "metadata": {
  "kernelspec": {
   "display_name": "Python 3",
   "language": "python",
   "name": "python3"
  },
  "language_info": {
   "codemirror_mode": {
    "name": "ipython",
    "version": 3
   },
   "file_extension": ".py",
   "mimetype": "text/x-python",
   "name": "python",
   "nbconvert_exporter": "python",
   "pygments_lexer": "ipython3",
   "version": "3.7.3"
  }
 },
 "nbformat": 4,
 "nbformat_minor": 4
}
